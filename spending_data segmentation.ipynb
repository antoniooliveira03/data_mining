{
 "cells": [
  {
   "cell_type": "markdown",
   "id": "54bc0ee8",
   "metadata": {},
   "source": [
    "# <center>Data Mining Project Code</center>\n",
    "\n",
    "** **\n",
    "## <center>*03 - XXXX*</center>\n",
    "\n",
    "** **\n",
    "\n",
    "In this notebook, we start our customer segmentation using two different partitioning methods: K-means and K-medoids. Each algorithm is going to be applied to different datasets which suffered from different transformations.\n",
    "\n",
    "The members of the `team` are:\n",
    "- Ana Farinha  - 20211514\n",
    "- António Oliveira - 20211595\n",
    "- Mariana Neto - 20211527\n",
    "- Salvador Domingues - 20240597\n"
   ]
  },
  {
   "cell_type": "markdown",
   "id": "b349f819",
   "metadata": {},
   "source": [
    "# ToC\n",
    "\n",
    "<a class=\"anchor\" id=\"top\"></a>\n",
    "\n",
    "\n",
    "1. [Importing Libraries & Data](#1.-Importing-Libraries-&-Data) <br><br>\n",
    "\n",
    "1. [Clustering](#2.-Clustering) <br><br>\n"
   ]
  },
  {
   "cell_type": "code",
   "execution_count": 1,
   "id": "088abf62",
   "metadata": {
    "ExecuteTime": {
     "end_time": "2024-12-27T18:54:46.325805Z",
     "start_time": "2024-12-27T18:54:41.910927Z"
    }
   },
   "outputs": [],
   "source": [
    "import pandas as pd\n",
    "import numpy as np\n",
    "from IPython.display import display \n",
    "\n",
    "# Scalers\n",
    "from sklearn.preprocessing import RobustScaler\n",
    "\n",
    "# Clustering algorithms\n",
    "from sklearn.cluster import KMeans\n",
    "from sklearn.mixture import GaussianMixture\n",
    "from minisom import MiniSom\n",
    "\n",
    "# Segmentation\n",
    "import segmentation as s\n",
    "\n",
    "# Visualizations\n",
    "import matplotlib.pyplot as plt\n",
    "import functions as f\n",
    "\n",
    "pd.set_option('display.max_columns', None)\n",
    "\n",
    "# Suppress Warnings\n",
    "import warnings\n",
    "warnings.filterwarnings(\"ignore\")"
   ]
  },
  {
   "cell_type": "markdown",
   "id": "3f6c1e7a",
   "metadata": {},
   "source": [
    "# 1. Importing Libraries & Data"
   ]
  },
  {
   "cell_type": "code",
   "execution_count": 2,
   "id": "1057c9c6",
   "metadata": {
    "ExecuteTime": {
     "end_time": "2024-12-27T18:54:47.022189Z",
     "start_time": "2024-12-27T18:54:46.328260Z"
    }
   },
   "outputs": [
    {
     "data": {
      "text/html": [
       "<div>\n",
       "<style scoped>\n",
       "    .dataframe tbody tr th:only-of-type {\n",
       "        vertical-align: middle;\n",
       "    }\n",
       "\n",
       "    .dataframe tbody tr th {\n",
       "        vertical-align: top;\n",
       "    }\n",
       "\n",
       "    .dataframe thead th {\n",
       "        text-align: right;\n",
       "    }\n",
       "</style>\n",
       "<table border=\"1\" class=\"dataframe\">\n",
       "  <thead>\n",
       "    <tr style=\"text-align: right;\">\n",
       "      <th></th>\n",
       "      <th>total_orders</th>\n",
       "      <th>total_spend</th>\n",
       "      <th>avg_spend_prod</th>\n",
       "      <th>HR_0</th>\n",
       "      <th>HR_1</th>\n",
       "      <th>HR_2</th>\n",
       "      <th>HR_3</th>\n",
       "      <th>HR_4</th>\n",
       "      <th>HR_5</th>\n",
       "      <th>HR_6</th>\n",
       "      <th>HR_7</th>\n",
       "      <th>HR_8</th>\n",
       "      <th>HR_9</th>\n",
       "      <th>HR_10</th>\n",
       "      <th>HR_11</th>\n",
       "      <th>HR_12</th>\n",
       "      <th>HR_13</th>\n",
       "      <th>HR_14</th>\n",
       "      <th>HR_15</th>\n",
       "      <th>HR_16</th>\n",
       "      <th>HR_17</th>\n",
       "      <th>HR_18</th>\n",
       "      <th>HR_19</th>\n",
       "      <th>HR_20</th>\n",
       "      <th>HR_21</th>\n",
       "      <th>HR_22</th>\n",
       "      <th>HR_23</th>\n",
       "      <th>DOW_0</th>\n",
       "      <th>DOW_1</th>\n",
       "      <th>DOW_2</th>\n",
       "      <th>DOW_3</th>\n",
       "      <th>DOW_4</th>\n",
       "      <th>DOW_5</th>\n",
       "      <th>DOW_6</th>\n",
       "    </tr>\n",
       "    <tr>\n",
       "      <th>customer_id</th>\n",
       "      <th></th>\n",
       "      <th></th>\n",
       "      <th></th>\n",
       "      <th></th>\n",
       "      <th></th>\n",
       "      <th></th>\n",
       "      <th></th>\n",
       "      <th></th>\n",
       "      <th></th>\n",
       "      <th></th>\n",
       "      <th></th>\n",
       "      <th></th>\n",
       "      <th></th>\n",
       "      <th></th>\n",
       "      <th></th>\n",
       "      <th></th>\n",
       "      <th></th>\n",
       "      <th></th>\n",
       "      <th></th>\n",
       "      <th></th>\n",
       "      <th></th>\n",
       "      <th></th>\n",
       "      <th></th>\n",
       "      <th></th>\n",
       "      <th></th>\n",
       "      <th></th>\n",
       "      <th></th>\n",
       "      <th></th>\n",
       "      <th></th>\n",
       "      <th></th>\n",
       "      <th></th>\n",
       "      <th></th>\n",
       "      <th></th>\n",
       "      <th></th>\n",
       "    </tr>\n",
       "  </thead>\n",
       "  <tbody>\n",
       "    <tr>\n",
       "      <th>1b8f824d5e</th>\n",
       "      <td>2</td>\n",
       "      <td>28.88</td>\n",
       "      <td>5.776</td>\n",
       "      <td>0</td>\n",
       "      <td>0</td>\n",
       "      <td>0</td>\n",
       "      <td>0</td>\n",
       "      <td>0</td>\n",
       "      <td>0</td>\n",
       "      <td>0</td>\n",
       "      <td>0</td>\n",
       "      <td>0</td>\n",
       "      <td>0</td>\n",
       "      <td>0</td>\n",
       "      <td>0</td>\n",
       "      <td>0</td>\n",
       "      <td>0</td>\n",
       "      <td>0</td>\n",
       "      <td>0</td>\n",
       "      <td>0</td>\n",
       "      <td>0</td>\n",
       "      <td>2</td>\n",
       "      <td>0</td>\n",
       "      <td>0</td>\n",
       "      <td>0</td>\n",
       "      <td>0</td>\n",
       "      <td>0</td>\n",
       "      <td>1</td>\n",
       "      <td>0</td>\n",
       "      <td>0</td>\n",
       "      <td>0</td>\n",
       "      <td>0</td>\n",
       "      <td>0</td>\n",
       "      <td>1</td>\n",
       "    </tr>\n",
       "    <tr>\n",
       "      <th>5d272b9dcb</th>\n",
       "      <td>2</td>\n",
       "      <td>19.21</td>\n",
       "      <td>9.605</td>\n",
       "      <td>0</td>\n",
       "      <td>0</td>\n",
       "      <td>0</td>\n",
       "      <td>0</td>\n",
       "      <td>0</td>\n",
       "      <td>0</td>\n",
       "      <td>0</td>\n",
       "      <td>0</td>\n",
       "      <td>0</td>\n",
       "      <td>0</td>\n",
       "      <td>1</td>\n",
       "      <td>1</td>\n",
       "      <td>0</td>\n",
       "      <td>0</td>\n",
       "      <td>0</td>\n",
       "      <td>0</td>\n",
       "      <td>0</td>\n",
       "      <td>0</td>\n",
       "      <td>0</td>\n",
       "      <td>0</td>\n",
       "      <td>0</td>\n",
       "      <td>0</td>\n",
       "      <td>0</td>\n",
       "      <td>0</td>\n",
       "      <td>1</td>\n",
       "      <td>0</td>\n",
       "      <td>0</td>\n",
       "      <td>0</td>\n",
       "      <td>0</td>\n",
       "      <td>0</td>\n",
       "      <td>1</td>\n",
       "    </tr>\n",
       "    <tr>\n",
       "      <th>f6d1b2ba63</th>\n",
       "      <td>2</td>\n",
       "      <td>9.20</td>\n",
       "      <td>4.600</td>\n",
       "      <td>0</td>\n",
       "      <td>0</td>\n",
       "      <td>0</td>\n",
       "      <td>0</td>\n",
       "      <td>0</td>\n",
       "      <td>0</td>\n",
       "      <td>0</td>\n",
       "      <td>0</td>\n",
       "      <td>0</td>\n",
       "      <td>1</td>\n",
       "      <td>0</td>\n",
       "      <td>1</td>\n",
       "      <td>0</td>\n",
       "      <td>0</td>\n",
       "      <td>0</td>\n",
       "      <td>0</td>\n",
       "      <td>0</td>\n",
       "      <td>0</td>\n",
       "      <td>0</td>\n",
       "      <td>0</td>\n",
       "      <td>0</td>\n",
       "      <td>0</td>\n",
       "      <td>0</td>\n",
       "      <td>0</td>\n",
       "      <td>1</td>\n",
       "      <td>0</td>\n",
       "      <td>0</td>\n",
       "      <td>0</td>\n",
       "      <td>0</td>\n",
       "      <td>0</td>\n",
       "      <td>1</td>\n",
       "    </tr>\n",
       "    <tr>\n",
       "      <th>180c632ed8</th>\n",
       "      <td>2</td>\n",
       "      <td>31.56</td>\n",
       "      <td>10.520</td>\n",
       "      <td>0</td>\n",
       "      <td>0</td>\n",
       "      <td>0</td>\n",
       "      <td>0</td>\n",
       "      <td>0</td>\n",
       "      <td>0</td>\n",
       "      <td>0</td>\n",
       "      <td>0</td>\n",
       "      <td>0</td>\n",
       "      <td>0</td>\n",
       "      <td>0</td>\n",
       "      <td>1</td>\n",
       "      <td>0</td>\n",
       "      <td>0</td>\n",
       "      <td>1</td>\n",
       "      <td>0</td>\n",
       "      <td>0</td>\n",
       "      <td>0</td>\n",
       "      <td>0</td>\n",
       "      <td>0</td>\n",
       "      <td>0</td>\n",
       "      <td>0</td>\n",
       "      <td>0</td>\n",
       "      <td>0</td>\n",
       "      <td>0</td>\n",
       "      <td>1</td>\n",
       "      <td>0</td>\n",
       "      <td>0</td>\n",
       "      <td>0</td>\n",
       "      <td>0</td>\n",
       "      <td>1</td>\n",
       "    </tr>\n",
       "    <tr>\n",
       "      <th>4eb37a6705</th>\n",
       "      <td>2</td>\n",
       "      <td>55.44</td>\n",
       "      <td>11.088</td>\n",
       "      <td>0</td>\n",
       "      <td>0</td>\n",
       "      <td>0</td>\n",
       "      <td>0</td>\n",
       "      <td>0</td>\n",
       "      <td>0</td>\n",
       "      <td>0</td>\n",
       "      <td>0</td>\n",
       "      <td>1</td>\n",
       "      <td>1</td>\n",
       "      <td>0</td>\n",
       "      <td>0</td>\n",
       "      <td>0</td>\n",
       "      <td>0</td>\n",
       "      <td>0</td>\n",
       "      <td>0</td>\n",
       "      <td>0</td>\n",
       "      <td>0</td>\n",
       "      <td>0</td>\n",
       "      <td>0</td>\n",
       "      <td>0</td>\n",
       "      <td>0</td>\n",
       "      <td>0</td>\n",
       "      <td>0</td>\n",
       "      <td>0</td>\n",
       "      <td>1</td>\n",
       "      <td>0</td>\n",
       "      <td>0</td>\n",
       "      <td>0</td>\n",
       "      <td>0</td>\n",
       "      <td>1</td>\n",
       "    </tr>\n",
       "    <tr>\n",
       "      <th>...</th>\n",
       "      <td>...</td>\n",
       "      <td>...</td>\n",
       "      <td>...</td>\n",
       "      <td>...</td>\n",
       "      <td>...</td>\n",
       "      <td>...</td>\n",
       "      <td>...</td>\n",
       "      <td>...</td>\n",
       "      <td>...</td>\n",
       "      <td>...</td>\n",
       "      <td>...</td>\n",
       "      <td>...</td>\n",
       "      <td>...</td>\n",
       "      <td>...</td>\n",
       "      <td>...</td>\n",
       "      <td>...</td>\n",
       "      <td>...</td>\n",
       "      <td>...</td>\n",
       "      <td>...</td>\n",
       "      <td>...</td>\n",
       "      <td>...</td>\n",
       "      <td>...</td>\n",
       "      <td>...</td>\n",
       "      <td>...</td>\n",
       "      <td>...</td>\n",
       "      <td>...</td>\n",
       "      <td>...</td>\n",
       "      <td>...</td>\n",
       "      <td>...</td>\n",
       "      <td>...</td>\n",
       "      <td>...</td>\n",
       "      <td>...</td>\n",
       "      <td>...</td>\n",
       "      <td>...</td>\n",
       "    </tr>\n",
       "    <tr>\n",
       "      <th>f4e366c281</th>\n",
       "      <td>1</td>\n",
       "      <td>18.04</td>\n",
       "      <td>18.040</td>\n",
       "      <td>0</td>\n",
       "      <td>0</td>\n",
       "      <td>0</td>\n",
       "      <td>0</td>\n",
       "      <td>0</td>\n",
       "      <td>0</td>\n",
       "      <td>0</td>\n",
       "      <td>0</td>\n",
       "      <td>0</td>\n",
       "      <td>0</td>\n",
       "      <td>0</td>\n",
       "      <td>0</td>\n",
       "      <td>0</td>\n",
       "      <td>1</td>\n",
       "      <td>0</td>\n",
       "      <td>0</td>\n",
       "      <td>0</td>\n",
       "      <td>0</td>\n",
       "      <td>0</td>\n",
       "      <td>0</td>\n",
       "      <td>0</td>\n",
       "      <td>0</td>\n",
       "      <td>0</td>\n",
       "      <td>0</td>\n",
       "      <td>0</td>\n",
       "      <td>0</td>\n",
       "      <td>0</td>\n",
       "      <td>0</td>\n",
       "      <td>0</td>\n",
       "      <td>0</td>\n",
       "      <td>1</td>\n",
       "    </tr>\n",
       "    <tr>\n",
       "      <th>f6b6709018</th>\n",
       "      <td>1</td>\n",
       "      <td>18.04</td>\n",
       "      <td>18.040</td>\n",
       "      <td>0</td>\n",
       "      <td>0</td>\n",
       "      <td>0</td>\n",
       "      <td>0</td>\n",
       "      <td>0</td>\n",
       "      <td>0</td>\n",
       "      <td>0</td>\n",
       "      <td>0</td>\n",
       "      <td>0</td>\n",
       "      <td>0</td>\n",
       "      <td>0</td>\n",
       "      <td>0</td>\n",
       "      <td>0</td>\n",
       "      <td>0</td>\n",
       "      <td>0</td>\n",
       "      <td>0</td>\n",
       "      <td>1</td>\n",
       "      <td>0</td>\n",
       "      <td>0</td>\n",
       "      <td>0</td>\n",
       "      <td>0</td>\n",
       "      <td>0</td>\n",
       "      <td>0</td>\n",
       "      <td>0</td>\n",
       "      <td>0</td>\n",
       "      <td>0</td>\n",
       "      <td>0</td>\n",
       "      <td>0</td>\n",
       "      <td>0</td>\n",
       "      <td>0</td>\n",
       "      <td>1</td>\n",
       "    </tr>\n",
       "    <tr>\n",
       "      <th>f74ad8ce3f</th>\n",
       "      <td>1</td>\n",
       "      <td>17.79</td>\n",
       "      <td>17.790</td>\n",
       "      <td>0</td>\n",
       "      <td>0</td>\n",
       "      <td>0</td>\n",
       "      <td>0</td>\n",
       "      <td>0</td>\n",
       "      <td>1</td>\n",
       "      <td>0</td>\n",
       "      <td>0</td>\n",
       "      <td>0</td>\n",
       "      <td>0</td>\n",
       "      <td>0</td>\n",
       "      <td>0</td>\n",
       "      <td>0</td>\n",
       "      <td>0</td>\n",
       "      <td>0</td>\n",
       "      <td>0</td>\n",
       "      <td>0</td>\n",
       "      <td>0</td>\n",
       "      <td>0</td>\n",
       "      <td>0</td>\n",
       "      <td>0</td>\n",
       "      <td>0</td>\n",
       "      <td>0</td>\n",
       "      <td>0</td>\n",
       "      <td>0</td>\n",
       "      <td>0</td>\n",
       "      <td>0</td>\n",
       "      <td>0</td>\n",
       "      <td>0</td>\n",
       "      <td>0</td>\n",
       "      <td>1</td>\n",
       "    </tr>\n",
       "    <tr>\n",
       "      <th>f7b19c0241</th>\n",
       "      <td>1</td>\n",
       "      <td>12.03</td>\n",
       "      <td>12.030</td>\n",
       "      <td>0</td>\n",
       "      <td>0</td>\n",
       "      <td>0</td>\n",
       "      <td>0</td>\n",
       "      <td>0</td>\n",
       "      <td>0</td>\n",
       "      <td>0</td>\n",
       "      <td>0</td>\n",
       "      <td>0</td>\n",
       "      <td>0</td>\n",
       "      <td>0</td>\n",
       "      <td>1</td>\n",
       "      <td>0</td>\n",
       "      <td>0</td>\n",
       "      <td>0</td>\n",
       "      <td>0</td>\n",
       "      <td>0</td>\n",
       "      <td>0</td>\n",
       "      <td>0</td>\n",
       "      <td>0</td>\n",
       "      <td>0</td>\n",
       "      <td>0</td>\n",
       "      <td>0</td>\n",
       "      <td>0</td>\n",
       "      <td>0</td>\n",
       "      <td>0</td>\n",
       "      <td>0</td>\n",
       "      <td>0</td>\n",
       "      <td>0</td>\n",
       "      <td>0</td>\n",
       "      <td>1</td>\n",
       "    </tr>\n",
       "    <tr>\n",
       "      <th>fd40d3b0e0</th>\n",
       "      <td>1</td>\n",
       "      <td>7.91</td>\n",
       "      <td>7.910</td>\n",
       "      <td>0</td>\n",
       "      <td>0</td>\n",
       "      <td>0</td>\n",
       "      <td>0</td>\n",
       "      <td>0</td>\n",
       "      <td>0</td>\n",
       "      <td>0</td>\n",
       "      <td>0</td>\n",
       "      <td>0</td>\n",
       "      <td>0</td>\n",
       "      <td>0</td>\n",
       "      <td>0</td>\n",
       "      <td>0</td>\n",
       "      <td>0</td>\n",
       "      <td>0</td>\n",
       "      <td>0</td>\n",
       "      <td>1</td>\n",
       "      <td>0</td>\n",
       "      <td>0</td>\n",
       "      <td>0</td>\n",
       "      <td>0</td>\n",
       "      <td>0</td>\n",
       "      <td>0</td>\n",
       "      <td>0</td>\n",
       "      <td>0</td>\n",
       "      <td>0</td>\n",
       "      <td>0</td>\n",
       "      <td>0</td>\n",
       "      <td>0</td>\n",
       "      <td>0</td>\n",
       "      <td>1</td>\n",
       "    </tr>\n",
       "  </tbody>\n",
       "</table>\n",
       "<p>31828 rows × 34 columns</p>\n",
       "</div>"
      ],
      "text/plain": [
       "             total_orders  total_spend  avg_spend_prod  HR_0  HR_1  HR_2  \\\n",
       "customer_id                                                                \n",
       "1b8f824d5e              2        28.88           5.776     0     0     0   \n",
       "5d272b9dcb              2        19.21           9.605     0     0     0   \n",
       "f6d1b2ba63              2         9.20           4.600     0     0     0   \n",
       "180c632ed8              2        31.56          10.520     0     0     0   \n",
       "4eb37a6705              2        55.44          11.088     0     0     0   \n",
       "...                   ...          ...             ...   ...   ...   ...   \n",
       "f4e366c281              1        18.04          18.040     0     0     0   \n",
       "f6b6709018              1        18.04          18.040     0     0     0   \n",
       "f74ad8ce3f              1        17.79          17.790     0     0     0   \n",
       "f7b19c0241              1        12.03          12.030     0     0     0   \n",
       "fd40d3b0e0              1         7.91           7.910     0     0     0   \n",
       "\n",
       "             HR_3  HR_4  HR_5  HR_6  HR_7  HR_8  HR_9  HR_10  HR_11  HR_12  \\\n",
       "customer_id                                                                  \n",
       "1b8f824d5e      0     0     0     0     0     0     0      0      0      0   \n",
       "5d272b9dcb      0     0     0     0     0     0     0      1      1      0   \n",
       "f6d1b2ba63      0     0     0     0     0     0     1      0      1      0   \n",
       "180c632ed8      0     0     0     0     0     0     0      0      1      0   \n",
       "4eb37a6705      0     0     0     0     0     1     1      0      0      0   \n",
       "...           ...   ...   ...   ...   ...   ...   ...    ...    ...    ...   \n",
       "f4e366c281      0     0     0     0     0     0     0      0      0      0   \n",
       "f6b6709018      0     0     0     0     0     0     0      0      0      0   \n",
       "f74ad8ce3f      0     0     1     0     0     0     0      0      0      0   \n",
       "f7b19c0241      0     0     0     0     0     0     0      0      1      0   \n",
       "fd40d3b0e0      0     0     0     0     0     0     0      0      0      0   \n",
       "\n",
       "             HR_13  HR_14  HR_15  HR_16  HR_17  HR_18  HR_19  HR_20  HR_21  \\\n",
       "customer_id                                                                  \n",
       "1b8f824d5e       0      0      0      0      0      2      0      0      0   \n",
       "5d272b9dcb       0      0      0      0      0      0      0      0      0   \n",
       "f6d1b2ba63       0      0      0      0      0      0      0      0      0   \n",
       "180c632ed8       0      1      0      0      0      0      0      0      0   \n",
       "4eb37a6705       0      0      0      0      0      0      0      0      0   \n",
       "...            ...    ...    ...    ...    ...    ...    ...    ...    ...   \n",
       "f4e366c281       1      0      0      0      0      0      0      0      0   \n",
       "f6b6709018       0      0      0      1      0      0      0      0      0   \n",
       "f74ad8ce3f       0      0      0      0      0      0      0      0      0   \n",
       "f7b19c0241       0      0      0      0      0      0      0      0      0   \n",
       "fd40d3b0e0       0      0      0      1      0      0      0      0      0   \n",
       "\n",
       "             HR_22  HR_23  DOW_0  DOW_1  DOW_2  DOW_3  DOW_4  DOW_5  DOW_6  \n",
       "customer_id                                                                 \n",
       "1b8f824d5e       0      0      1      0      0      0      0      0      1  \n",
       "5d272b9dcb       0      0      1      0      0      0      0      0      1  \n",
       "f6d1b2ba63       0      0      1      0      0      0      0      0      1  \n",
       "180c632ed8       0      0      0      1      0      0      0      0      1  \n",
       "4eb37a6705       0      0      0      1      0      0      0      0      1  \n",
       "...            ...    ...    ...    ...    ...    ...    ...    ...    ...  \n",
       "f4e366c281       0      0      0      0      0      0      0      0      1  \n",
       "f6b6709018       0      0      0      0      0      0      0      0      1  \n",
       "f74ad8ce3f       0      0      0      0      0      0      0      0      1  \n",
       "f7b19c0241       0      0      0      0      0      0      0      0      1  \n",
       "fd40d3b0e0       0      0      0      0      0      0      0      0      1  \n",
       "\n",
       "[31828 rows x 34 columns]"
      ]
     },
     "execution_count": 2,
     "metadata": {},
     "output_type": "execute_result"
    }
   ],
   "source": [
    "categorical_columns = [\n",
    "    'payment_method', 'promo_DELIVERY', 'promo_DISCOUNT', 'promo_FREEBIE',\n",
    "    'pay_CARD', 'pay_CASH', 'payment_method_enc', 'last_promo_enc'\n",
    "]\n",
    "\n",
    "data = pd.read_csv('data/preprocessed_data.csv', \n",
    "                   index_col = \"customer_id\")\n",
    "spending_data = data[s.spending_orders]\n",
    "spending_data = spending_data.drop(columns=categorical_columns)\n",
    "spending_data"
   ]
  },
  {
   "cell_type": "markdown",
   "id": "151b0a22",
   "metadata": {},
   "source": [
    "# 2. Clustering"
   ]
  },
  {
   "cell_type": "markdown",
   "id": "8ef60098",
   "metadata": {},
   "source": [
    "**Scale Data Before Clustering**"
   ]
  },
  {
   "cell_type": "code",
   "execution_count": 7,
   "id": "77e0c14d",
   "metadata": {
    "ExecuteTime": {
     "end_time": "2024-12-27T18:54:47.219238Z",
     "start_time": "2024-12-27T18:54:47.023737Z"
    }
   },
   "outputs": [],
   "source": [
    "scaled_data = RobustScaler().fit_transform(spending_data)"
   ]
  },
  {
   "cell_type": "code",
   "execution_count": 8,
   "id": "5da23bf9",
   "metadata": {},
   "outputs": [],
   "source": [
    "scaled_data = pd.DataFrame(scaled_data, \n",
    "                           columns=spending_data.columns, \n",
    "                           index=spending_data.index)"
   ]
  },
  {
   "cell_type": "markdown",
   "id": "579f05d9",
   "metadata": {},
   "source": [
    "## 2.1 Hierarchical Clustering"
   ]
  },
  {
   "cell_type": "code",
   "execution_count": 10,
   "id": "b257c988",
   "metadata": {
    "ExecuteTime": {
     "end_time": "2024-12-27T18:54:47.225637Z",
     "start_time": "2024-12-27T18:54:47.222808Z"
    }
   },
   "outputs": [],
   "source": [
    "from sklearn.cluster import AgglomerativeClustering\n",
    "from scipy.cluster.hierarchy import dendrogram"
   ]
  },
  {
   "cell_type": "code",
   "execution_count": 11,
   "id": "cd90ba8c",
   "metadata": {
    "ExecuteTime": {
     "end_time": "2024-12-27T18:54:47.230581Z",
     "start_time": "2024-12-27T18:54:47.227930Z"
    }
   },
   "outputs": [],
   "source": [
    "linkages = ['ward', 'complete', 'average', 'single']"
   ]
  },
  {
   "cell_type": "markdown",
   "id": "83745228",
   "metadata": {},
   "source": [
    "**Dendrogram**"
   ]
  },
  {
   "cell_type": "code",
   "execution_count": 12,
   "id": "c1b9066c",
   "metadata": {
    "ExecuteTime": {
     "end_time": "2024-12-27T19:04:04.644180Z",
     "start_time": "2024-12-27T18:54:54.009543Z"
    },
    "scrolled": true
   },
   "outputs": [
    {
     "data": {
      "image/png": "[encoded data removed]",
      "text/plain": [
       "<Figure size 640x480 with 1 Axes>"
      ]
     },
     "metadata": {},
     "output_type": "display_data"
    },
    {
     "data": {
      "image/png": "[encoded data removed]",
      "text/plain": [
       "<Figure size 640x480 with 1 Axes>"
      ]
     },
     "metadata": {},
     "output_type": "display_data"
    },
    {
     "data": {
      "image/png": "[encoded data removed]",
      "text/plain": [
       "<Figure size 640x480 with 1 Axes>"
      ]
     },
     "metadata": {},
     "output_type": "display_data"
    },
    {
     "data": {
      "image/png": "[encoded data removed]",
      "text/plain": [
       "<Figure size 640x480 with 1 Axes>"
      ]
     },
     "metadata": {},
     "output_type": "display_data"
    }
   ],
   "source": [
    "for linkage in linkages:\n",
    "    agg_clust = AgglomerativeClustering(\n",
    "        linkage = linkage, distance_threshold = 0, n_clusters=None\n",
    "        ).fit(scaled_data)\n",
    "    \n",
    "    fig, ax = plt.subplots()\n",
    "    plt.title(f\"Hierarchical Clustering with {linkage} Dendrogram\")\n",
    "    f.plot_dendrogram(agg_clust, truncate_mode=\"level\", p=10)\n",
    "    plt.show()"
   ]
  },
  {
   "cell_type": "markdown",
   "id": "64f5d23d",
   "metadata": {},
   "source": [
    "**R2**"
   ]
  },
  {
   "cell_type": "code",
   "execution_count": 13,
   "id": "0f57c0d8",
   "metadata": {
    "ExecuteTime": {
     "end_time": "2024-12-25T15:56:17.739617Z",
     "start_time": "2024-12-25T15:56:17.725206Z"
    }
   },
   "outputs": [],
   "source": [
    "# Let's wrap them into functions\n",
    "\n",
    "def get_ss(df, feats):\n",
    "    \"\"\"\n",
    "    Calculate the sum of squares (SS) for the given DataFrame.\n",
    "\n",
    "    The sum of squares is computed as the sum of the variances of each column\n",
    "    multiplied by the number of non-NA/null observations minus one.\n",
    "\n",
    "    Parameters:\n",
    "    df (pandas.DataFrame): The input DataFrame for which the sum of squares is to be calculated.\n",
    "    feats (list of str): A list of feature column names to be used in the calculation.\n",
    "\n",
    "    Returns:\n",
    "    float: The sum of squares of the DataFrame.\n",
    "    \"\"\"\n",
    "    df_ = df[feats]\n",
    "    ss = np.sum(df_.var() * (df_.count() - 1))\n",
    "    \n",
    "    return ss \n",
    "\n",
    "\n",
    "def get_ssb(df, feats, label_col):\n",
    "    \n",
    "    ssb_i = 0\n",
    "    for i in np.unique(df[label_col]):\n",
    "        df_ = df.loc[:, feats]\n",
    "        X_ = df_.values\n",
    "        X_k = df_.loc[df[label_col] == i].values\n",
    "        \n",
    "        ssb_i += (X_k.shape[0] * (np.square(X_k.mean(axis=0) - X_.mean(axis=0))) )\n",
    "\n",
    "    ssb = np.sum(ssb_i)\n",
    "    \n",
    "\n",
    "    return ssb\n",
    "\n",
    "\n",
    "def get_ssw(df, feats, label_col):\n",
    "\n",
    "    feats_label = feats+[label_col]\n",
    "\n",
    "    df_k = df[feats_label].groupby(by=label_col).apply(lambda col: get_ss(col, feats), \n",
    "                                                       include_groups=False)\n",
    "\n",
    "    return df_k.sum()\n",
    "\n"
   ]
  },
  {
   "cell_type": "code",
   "execution_count": 14,
   "id": "93c10959",
   "metadata": {
    "ExecuteTime": {
     "end_time": "2024-12-25T15:56:18.712523Z",
     "start_time": "2024-12-25T15:56:18.708960Z"
    },
    "scrolled": true
   },
   "outputs": [],
   "source": [
    "def get_rsq(df, feats, label_col):\n",
    "    df_sst_ = get_ss(df, feats)                 # get total sum of squares\n",
    "    df_ssw_ = get_ssw(df, feats, label_col)     # get ss within\n",
    "    df_ssb_ = df_sst_ - df_ssw_                 # get ss between\n",
    "\n",
    "    # r2 = ssb/sst \n",
    "    return (df_ssb_/df_sst_)\n",
    "    "
   ]
  },
  {
   "cell_type": "code",
   "execution_count": 15,
   "id": "d2a15344",
   "metadata": {
    "ExecuteTime": {
     "end_time": "2024-12-25T15:56:19.166253Z",
     "start_time": "2024-12-25T15:56:19.159669Z"
    }
   },
   "outputs": [],
   "source": [
    "def get_r2_hc(df, link_method, max_nclus, min_nclus=1, dist=\"euclidean\"):\n",
    "    r2 = []  # where we will store the R2 metrics for each cluster solution\n",
    "    feats = df.columns.tolist()\n",
    "    \n",
    "    for i in range(min_nclus, max_nclus+1):  # iterate over desired ncluster range\n",
    "        cluster = AgglomerativeClustering(n_clusters=i, metric=dist, linkage=link_method)\n",
    "        \n",
    "        #get cluster labels\n",
    "        hclabels = cluster.fit_predict(df) \n",
    "        \n",
    "        # concat df with labels\n",
    "        df_concat = pd.concat([df, pd.Series(hclabels, name='labels', index=df.index)], axis=1)  \n",
    "        \n",
    "        \n",
    "        # append the R2 of the given cluster solution\n",
    "        r2.append(get_rsq(df_concat, feats, 'labels'))\n",
    "        \n",
    "    return np.array(r2)\n"
   ]
  },
  {
   "cell_type": "code",
   "execution_count": null,
   "id": "e7009465",
   "metadata": {
    "ExecuteTime": {
     "end_time": "2024-12-25T16:17:18.870731Z",
     "start_time": "2024-12-25T15:56:19.714754Z"
    }
   },
   "outputs": [],
   "source": [
    "max_nclus = 8\n",
    "\n",
    "r2_hc = np.vstack([ f.get_r2_hc(spending_data, \n",
    "                              link, \n",
    "                              max_nclus=max_nclus, \n",
    "                              min_nclus=1, \n",
    "                              dist=\"euclidean\") \n",
    "                              for link in linkages])"
   ]
  },
  {
   "cell_type": "code",
   "execution_count": 43,
   "id": "63bf71de",
   "metadata": {
    "ExecuteTime": {
     "end_time": "2024-12-25T16:18:04.142009Z",
     "start_time": "2024-12-25T16:18:04.130961Z"
    }
   },
   "outputs": [],
   "source": [
    "r2_hc_methods = pd.DataFrame(r2_hc.T, \n",
    "                             index=range(1, max_nclus + 1), \n",
    "                             columns=linkages)"
   ]
  },
  {
   "cell_type": "code",
   "execution_count": null,
   "id": "3e790a53",
   "metadata": {
    "ExecuteTime": {
     "end_time": "2024-12-25T16:18:27.334251Z",
     "start_time": "2024-12-25T16:18:26.313839Z"
    }
   },
   "outputs": [],
   "source": [
    "sns.set()\n",
    "\n",
    "# Plot data\n",
    "fig = plt.figure(figsize=(11,5))\n",
    "sns.lineplot(data=r2_hc_methods, linewidth=2.5, markers=[\"o\"]*4)\n",
    "\n",
    "# Finalize the plot\n",
    "plt.legend(title=\"HC methods\", title_fontsize=11)\n",
    "plt.xticks(range(1, max_nclus + 1))\n",
    "plt.xlabel(\"Number of clusters\", fontsize=13)\n",
    "plt.ylabel(\"R2 metric\", fontsize=13)\n",
    "\n",
    "fig.suptitle(\"$R^2$ plot for various hierarchical methods\", fontsize=21)\n",
    "\n",
    "plt.show()"
   ]
  },
  {
   "cell_type": "markdown",
   "id": "3463c81d",
   "metadata": {},
   "source": [
    "**Final Solution for Hierarchical Clustering**"
   ]
  },
  {
   "cell_type": "code",
   "execution_count": 46,
   "id": "a5896b85",
   "metadata": {
    "ExecuteTime": {
     "end_time": "2024-12-25T16:22:51.847030Z",
     "start_time": "2024-12-25T16:22:05.224283Z"
    }
   },
   "outputs": [],
   "source": [
    "# linkage = \"ward\"\n",
    "# distance = \"euclidean\"\n",
    "# n_clusters = 4\n",
    "\n",
    "# hclust = AgglomerativeClustering(linkage=linkage, metric=distance, n_clusters=n_clusters)\n",
    "\n",
    "# hc_labels = hclust.fit_predict(spending_data)"
   ]
  },
  {
   "cell_type": "code",
   "execution_count": null,
   "id": "e970d02c",
   "metadata": {
    "ExecuteTime": {
     "end_time": "2024-12-25T16:24:30.867408Z",
     "start_time": "2024-12-25T16:24:30.458841Z"
    }
   },
   "outputs": [],
   "source": [
    "f.plot_cluster_profiling(spending_data, hc_labels, \"Hierarchical\")"
   ]
  },
  {
   "cell_type": "markdown",
   "id": "662ea1de",
   "metadata": {},
   "source": [
    "## 2.2 K-Means"
   ]
  },
  {
   "cell_type": "code",
   "execution_count": 3,
   "id": "0bb7810a",
   "metadata": {
    "ExecuteTime": {
     "end_time": "2024-12-24T11:44:10.892908Z",
     "start_time": "2024-12-24T11:43:58.468887Z"
    },
    "scrolled": true
   },
   "outputs": [],
   "source": [
    "dispersion = []\n",
    "for k in range(1, 20):\n",
    "    kmeans = KMeans(n_clusters=k, random_state=0).fit(scaled_data)\n",
    "    dispersion.append(kmeans.inertia_)"
   ]
  },
  {
   "cell_type": "markdown",
   "id": "7ff7a955",
   "metadata": {},
   "source": [
    "**Elbow Method**"
   ]
  },
  {
   "cell_type": "code",
   "execution_count": null,
   "id": "aa372764",
   "metadata": {
    "ExecuteTime": {
     "end_time": "2024-12-23T16:50:03.983811Z",
     "start_time": "2024-12-23T16:50:03.782465Z"
    }
   },
   "outputs": [],
   "source": [
    "plt.plot(range(1, 20), dispersion, marker='o', color='#4CAF50')\n",
    "plt.xlabel('Number of clusters')\n",
    "plt.ylabel('Dispersion (inertia)')\n",
    "plt.xticks(np.arange(0, 21, step=2))  \n",
    "#plt.vlines(7, 5000, 600000, color='red')\n",
    "\n",
    "plt.show()"
   ]
  },
  {
   "cell_type": "markdown",
   "id": "1fc343cd",
   "metadata": {},
   "source": [
    "**Histogram**"
   ]
  },
  {
   "cell_type": "code",
   "execution_count": 8,
   "id": "3d1967b0",
   "metadata": {
    "ExecuteTime": {
     "end_time": "2024-12-25T15:31:34.758344Z",
     "start_time": "2024-12-25T15:31:34.755416Z"
    }
   },
   "outputs": [],
   "source": [
    "possible_k = [2, 3, 4, 5, 6, 7, 8]"
   ]
  },
  {
   "cell_type": "code",
   "execution_count": null,
   "id": "d209e610",
   "metadata": {
    "ExecuteTime": {
     "end_time": "2024-12-25T14:45:40.978950Z",
     "start_time": "2024-12-25T14:45:37.076750Z"
    },
    "scrolled": true
   },
   "outputs": [],
   "source": [
    "for k in possible_k:\n",
    "    \n",
    "    scaled_data_copy = scaled_data.copy()\n",
    "    \n",
    "    kmeans = KMeans(n_clusters=k, random_state=42)  \n",
    "    kmeans.fit(scaled_data_copy)  \n",
    "    clusters  = kmeans.predict(scaled_data_copy)  \n",
    "    \n",
    "    spending_data[f'cluster_kmeans{k}'] = clusters \n",
    "    \n",
    "    spending_data.groupby([f'cluster_kmeans{k}']).size().plot(kind='bar', \n",
    "                                                          color='#4CAF50') \n",
    "    plt.title(f'Cluster Sizes for k={k}')\n",
    "    plt.show()\n",
    "    \n",
    "    cluster_means = spending_data.groupby([f'cluster_kmeans{k}']).mean().T\n",
    "\n",
    "    print(f\"\\nMean values for k={k}:\")\n",
    "    display(cluster_means.T)\n",
    "    \n",
    "    spending_data.drop(f'cluster_kmeans{k}', axis = 1, inplace = True)"
   ]
  },
  {
   "cell_type": "markdown",
   "id": "63fe7458",
   "metadata": {},
   "source": [
    "**Means**"
   ]
  },
  {
   "cell_type": "code",
   "execution_count": null,
   "id": "6e6a55d3",
   "metadata": {
    "ExecuteTime": {
     "end_time": "2024-12-25T14:45:54.758773Z",
     "start_time": "2024-12-25T14:45:52.093413Z"
    },
    "scrolled": true
   },
   "outputs": [],
   "source": [
    "for k in possible_k:\n",
    "    kmeans = KMeans(n_clusters=k, random_state=42)  \n",
    "    kmeans.fit(spending_data)  \n",
    "    clusters = kmeans.predict(spending_data)  \n",
    "\n",
    "    # Add the cluster assignments to the DataFrame\n",
    "    data[f'cluster_kmeans{k}'] = clusters \n",
    "\n",
    "    # Compute mean values grouped by clusters and transpose\n",
    "    cluster_means = spending_data.groupby([f'cluster_kmeans{k}']).mean().T\n",
    "\n",
    "    print(f\"\\nMean values for k={k}:\")\n",
    "    display(cluster_means)"
   ]
  },
  {
   "cell_type": "markdown",
   "id": "216a793e",
   "metadata": {},
   "source": [
    "**Silhouette Score**"
   ]
  },
  {
   "cell_type": "code",
   "execution_count": null,
   "id": "770f75d9",
   "metadata": {
    "ExecuteTime": {
     "end_time": "2024-12-25T15:35:18.329841Z",
     "start_time": "2024-12-25T15:31:43.553577Z"
    },
    "scrolled": true
   },
   "outputs": [],
   "source": [
    "avg_silhouette = f.plot_silhouette(scaled_data, possible_k)"
   ]
  },
  {
   "cell_type": "code",
   "execution_count": null,
   "id": "58887a8e",
   "metadata": {
    "ExecuteTime": {
     "end_time": "2024-12-25T15:35:18.544288Z",
     "start_time": "2024-12-25T15:35:18.336749Z"
    },
    "scrolled": false
   },
   "outputs": [],
   "source": [
    "plt.figure(figsize=(9, 5))\n",
    "plt.plot(possible_k, avg_silhouette, marker='o', label='Average Silhouette')\n",
    "plt.ylabel(\"Average Silhouette Score\")\n",
    "plt.xlabel(\"Number of Clusters\")\n",
    "plt.title(\"Average Silhouette Plot over Clusters\", fontsize=15)\n",
    "plt.xticks(possible_k)\n",
    "plt.grid(alpha=0.5)\n",
    "plt.legend()\n",
    "plt.show()\n"
   ]
  },
  {
   "cell_type": "markdown",
   "id": "b25a8b0a",
   "metadata": {},
   "source": [
    "**Final Solution for K-Means**"
   ]
  },
  {
   "cell_type": "code",
   "execution_count": null,
   "id": "7eed9534",
   "metadata": {
    "ExecuteTime": {
     "end_time": "2024-12-25T15:36:45.559478Z",
     "start_time": "2024-12-25T15:36:45.195491Z"
    }
   },
   "outputs": [],
   "source": [
    "number_clusters = 3\n",
    "kmclust = KMeans(n_clusters=number_clusters, \n",
    "                 init='k-means++', \n",
    "                 n_init=15, \n",
    "                 random_state=1)\n",
    "\n",
    "km_labels = kmclust.fit_predict(spending_data)\n",
    "km_labels"
   ]
  },
  {
   "cell_type": "code",
   "execution_count": null,
   "id": "670db11e",
   "metadata": {
    "ExecuteTime": {
     "end_time": "2024-12-25T16:25:12.495616Z",
     "start_time": "2024-12-25T16:25:12.111611Z"
    }
   },
   "outputs": [],
   "source": [
    "f.plot_cluster_profiling(spending_data, km_labels, \"K-Means\")"
   ]
  },
  {
   "cell_type": "markdown",
   "id": "db09cd64",
   "metadata": {},
   "source": [
    "## 2.3 DB Scan"
   ]
  },
  {
   "cell_type": "code",
   "execution_count": 53,
   "id": "36734332",
   "metadata": {
    "ExecuteTime": {
     "end_time": "2024-12-25T16:27:18.921243Z",
     "start_time": "2024-12-25T16:27:18.918828Z"
    }
   },
   "outputs": [],
   "source": [
    "from sklearn.cluster import DBSCAN#, HDBSCAN"
   ]
  },
  {
   "cell_type": "code",
   "execution_count": null,
   "id": "8813e35e",
   "metadata": {
    "ExecuteTime": {
     "end_time": "2024-12-25T16:27:19.683887Z",
     "start_time": "2024-12-25T16:27:19.665775Z"
    }
   },
   "outputs": [],
   "source": [
    "dbscan = DBSCAN(eps=15, min_samples=5)  \n",
    "spending_data['dbscan_cluster_1'] = dbscan.fit_predict(scaled_data)\n",
    "spending_data['dbscan_cluster_1'].value_counts()"
   ]
  },
  {
   "cell_type": "code",
   "execution_count": null,
   "id": "eb925101",
   "metadata": {},
   "outputs": [],
   "source": [
    "# Create a bar chart of the number of customers in each cluster\n",
    "cluster_counts = spending_data.groupby(['dbscan_cluster_1']).size()\n",
    "ax = cluster_counts.plot(kind='bar', color='#4CAF50')\n",
    "\n",
    "# Add labels to the x and y axes\n",
    "plt.xlabel('Cluster')\n",
    "plt.ylabel('Number of Customers')\n",
    "plt.xticks(rotation=0)\n",
    "\n",
    "# Show the plot\n",
    "plt.show()"
   ]
  },
  {
   "cell_type": "markdown",
   "id": "9ef1e156",
   "metadata": {},
   "source": [
    "### 2.3.1 HDB Scan"
   ]
  },
  {
   "cell_type": "code",
   "execution_count": null,
   "id": "c7a6f223",
   "metadata": {},
   "outputs": [],
   "source": []
  },
  {
   "cell_type": "markdown",
   "id": "f5bd59fb",
   "metadata": {},
   "source": [
    "## 2.? UMAP"
   ]
  },
  {
   "cell_type": "code",
   "execution_count": 21,
   "id": "d0d794cd",
   "metadata": {
    "ExecuteTime": {
     "end_time": "2024-12-24T12:15:01.409828Z",
     "start_time": "2024-12-24T12:14:55.460889Z"
    }
   },
   "outputs": [],
   "source": [
    "import umap.umap_ as umap"
   ]
  },
  {
   "cell_type": "code",
   "execution_count": 32,
   "id": "b9c3514a",
   "metadata": {
    "ExecuteTime": {
     "end_time": "2024-12-24T12:17:41.583706Z",
     "start_time": "2024-12-24T12:17:41.565250Z"
    }
   },
   "outputs": [],
   "source": [
    "umap_object = umap.UMAP(n_neighbors=10, min_dist=0.1)"
   ]
  },
  {
   "cell_type": "code",
   "execution_count": 33,
   "id": "bbe09ec4",
   "metadata": {
    "ExecuteTime": {
     "end_time": "2024-12-24T12:18:02.797070Z",
     "start_time": "2024-12-24T12:17:41.927483Z"
    }
   },
   "outputs": [],
   "source": [
    "num_ordered = spending_data.sort_index()\n",
    "umap_embedding = umap_object.fit_transform(num_ordered)"
   ]
  },
  {
   "cell_type": "code",
   "execution_count": null,
   "id": "6c85834b",
   "metadata": {
    "ExecuteTime": {
     "end_time": "2024-12-24T12:18:03.017050Z",
     "start_time": "2024-12-24T12:18:02.799931Z"
    }
   },
   "outputs": [],
   "source": [
    "f.plot_dim_reduction(umap_embedding)"
   ]
  },
  {
   "cell_type": "markdown",
   "id": "11e76013",
   "metadata": {},
   "source": [
    "## 2.? Gaussian Mixture Model"
   ]
  },
  {
   "cell_type": "code",
   "execution_count": 9,
   "id": "c1500334",
   "metadata": {},
   "outputs": [],
   "source": [
    "# Performing GMM clustering\n",
    "gmm = GaussianMixture(n_components=4, covariance_type='full', n_init=10, init_params='kmeans', random_state=1)\n",
    "gmm_labels = gmm.fit_predict(scaled_data)\n",
    "labels_proba = gmm.predict_proba(scaled_data)"
   ]
  },
  {
   "cell_type": "code",
   "execution_count": 10,
   "id": "a3f80349",
   "metadata": {},
   "outputs": [
    {
     "data": {
      "text/plain": [
       "array([0.64962786, 0.2209199 , 0.0912587 , 0.03819354])"
      ]
     },
     "execution_count": 10,
     "metadata": {},
     "output_type": "execute_result"
    }
   ],
   "source": [
    "# The estimated component weights\n",
    "gmm.weights_"
   ]
  },
  {
   "cell_type": "code",
   "execution_count": 11,
   "id": "cdefc638",
   "metadata": {},
   "outputs": [
    {
     "name": "stdout",
     "output_type": "stream",
     "text": [
      "(4, 34)\n"
     ]
    },
    {
     "data": {
      "text/plain": [
       "array([[ 0.07603423,  0.04691192,  0.00734429,  0.        ,  0.        ,\n",
       "         0.        ,  0.        ,  0.        ,  0.        ,  0.        ,\n",
       "         0.        ,  0.06843279,  0.15850747,  0.24368091,  0.31354914,\n",
       "         0.26198948,  0.20179536,  0.18994307,  0.27929854,  0.38541697,\n",
       "         0.41754356,  0.3334221 ,  0.22091644,  0.1083826 ,  0.04522429,\n",
       "         0.        ,  0.        ,  0.38104043,  0.38971466,  0.41591341,\n",
       "         0.45135543,  0.53397454,  0.50715548,  0.54894875],\n",
       "       [ 0.13679222,  0.72368082,  0.57430361,  0.        ,  0.15030857,\n",
       "         0.20088605,  0.45431137,  0.37923616,  0.29637046,  0.22284447,\n",
       "         0.19090543,  0.15319124,  0.22434033,  0.29405943,  0.23452205,\n",
       "         0.1511996 ,  0.10854855,  0.0832935 ,  0.05664111,  0.        ,\n",
       "         0.        ,  0.        ,  0.        ,  0.        ,  0.        ,\n",
       "         0.03900748,  0.06352514,  0.46553859,  0.46246157,  0.4788526 ,\n",
       "         0.46960141,  0.47313093,  0.52532309,  0.53546847],\n",
       "       [ 3.0228753 ,  1.68855016, -0.30727592,  0.        ,  0.        ,\n",
       "         0.        ,  0.        ,  0.        ,  0.        ,  0.09418325,\n",
       "         0.23050251,  0.42706429,  0.67744069,  0.8935591 ,  1.05622922,\n",
       "         0.97532356,  0.68453034,  0.60701817,  0.72093015,  0.90959309,\n",
       "         1.08771765,  1.11858779,  0.94995695,  0.64141532,  0.3521743 ,\n",
       "         0.31560468,  0.20910188,  1.61116545,  1.67108079,  1.71459899,\n",
       "         1.76654153,  1.84036742,  1.65424742,  1.81062431],\n",
       "       [ 2.63995068,  2.53273214,  0.02895406,  0.        ,  0.53726682,\n",
       "         0.4923249 ,  0.47180491,  0.46677604,  0.4286599 ,  0.31137902,\n",
       "         0.35467112,  0.38372179,  0.52115295,  0.64945278,  0.69183794,\n",
       "         0.56674972,  0.4919947 ,  0.47700806,  0.45067791,  0.60050984,\n",
       "         0.53911083,  0.48289308,  0.40968707,  0.36277626,  0.25419662,\n",
       "         0.28300004,  0.31668781,  1.5311515 ,  1.56920222,  1.52778382,\n",
       "         1.60047565,  1.53424376,  1.47841666,  1.67857844]])"
      ]
     },
     "execution_count": 11,
     "metadata": {},
     "output_type": "execute_result"
    }
   ],
   "source": [
    "# The estimated mean vectors of the Components\n",
    "print(gmm.means_.shape)\n",
    "gmm.means_"
   ]
  },
  {
   "cell_type": "code",
   "execution_count": 12,
   "id": "c6beaa8b",
   "metadata": {},
   "outputs": [
    {
     "data": {
      "text/plain": [
       "(4, 34, 34)"
      ]
     },
     "execution_count": 12,
     "metadata": {},
     "output_type": "execute_result"
    }
   ],
   "source": [
    "# The estimated covariance matrices of the Components\n",
    "gmm.covariances_.shape"
   ]
  },
  {
   "cell_type": "code",
   "execution_count": 13,
   "id": "7ea02b16",
   "metadata": {},
   "outputs": [
    {
     "data": {
      "image/png": "[encoded data removed]",
      "text/plain": [
       "<Figure size 640x480 with 1 Axes>"
      ]
     },
     "metadata": {},
     "output_type": "display_data"
    }
   ],
   "source": [
    "# This may take a while to run\n",
    "# \n",
    "# Selecting number of components based on AIC and BIC\n",
    "n_components = np.arange(1, 16)\n",
    "models = [GaussianMixture(n, covariance_type='full', n_init=10, random_state=1).fit(scaled_data)\n",
    "          for n in n_components]\n",
    "\n",
    "bic_values = [m.bic(scaled_data) for m in models]\n",
    "aic_values = [m.aic(scaled_data) for m in models]\n",
    "plt.plot(n_components, bic_values, label='BIC')\n",
    "plt.plot(n_components, aic_values, label='AIC')\n",
    "plt.legend(loc='best')\n",
    "plt.xlabel('n_components')\n",
    "plt.xticks(n_components)\n",
    "plt.show()"
   ]
  },
  {
   "cell_type": "code",
   "execution_count": 14,
   "id": "838540f5",
   "metadata": {},
   "outputs": [],
   "source": [
    "# Performing GMM clustering\n",
    "gmm = GaussianMixture(n_components=3, covariance_type='full', n_init=10, init_params='kmeans', random_state=1)\n",
    "gmm_labels = gmm.fit_predict(scaled_data)"
   ]
  },
  {
   "cell_type": "code",
   "execution_count": 15,
   "id": "6bd511b5",
   "metadata": {},
   "outputs": [
    {
     "data": {
      "text/html": [
       "<div>\n",
       "<style scoped>\n",
       "    .dataframe tbody tr th:only-of-type {\n",
       "        vertical-align: middle;\n",
       "    }\n",
       "\n",
       "    .dataframe tbody tr th {\n",
       "        vertical-align: top;\n",
       "    }\n",
       "\n",
       "    .dataframe thead th {\n",
       "        text-align: right;\n",
       "    }\n",
       "</style>\n",
       "<table border=\"1\" class=\"dataframe\">\n",
       "  <thead>\n",
       "    <tr style=\"text-align: right;\">\n",
       "      <th></th>\n",
       "      <th>total_orders</th>\n",
       "      <th>total_spend</th>\n",
       "      <th>avg_spend_prod</th>\n",
       "      <th>HR_0</th>\n",
       "      <th>HR_1</th>\n",
       "      <th>HR_2</th>\n",
       "      <th>HR_3</th>\n",
       "      <th>HR_4</th>\n",
       "      <th>HR_5</th>\n",
       "      <th>HR_6</th>\n",
       "      <th>HR_7</th>\n",
       "      <th>HR_8</th>\n",
       "      <th>HR_9</th>\n",
       "      <th>HR_10</th>\n",
       "      <th>HR_11</th>\n",
       "      <th>HR_12</th>\n",
       "      <th>HR_13</th>\n",
       "      <th>HR_14</th>\n",
       "      <th>HR_15</th>\n",
       "      <th>HR_16</th>\n",
       "      <th>HR_17</th>\n",
       "      <th>HR_18</th>\n",
       "      <th>HR_19</th>\n",
       "      <th>HR_20</th>\n",
       "      <th>HR_21</th>\n",
       "      <th>HR_22</th>\n",
       "      <th>HR_23</th>\n",
       "      <th>DOW_0</th>\n",
       "      <th>DOW_1</th>\n",
       "      <th>DOW_2</th>\n",
       "      <th>DOW_3</th>\n",
       "      <th>DOW_4</th>\n",
       "      <th>DOW_5</th>\n",
       "      <th>DOW_6</th>\n",
       "      <th>gmm_labels</th>\n",
       "    </tr>\n",
       "    <tr>\n",
       "      <th>customer_id</th>\n",
       "      <th></th>\n",
       "      <th></th>\n",
       "      <th></th>\n",
       "      <th></th>\n",
       "      <th></th>\n",
       "      <th></th>\n",
       "      <th></th>\n",
       "      <th></th>\n",
       "      <th></th>\n",
       "      <th></th>\n",
       "      <th></th>\n",
       "      <th></th>\n",
       "      <th></th>\n",
       "      <th></th>\n",
       "      <th></th>\n",
       "      <th></th>\n",
       "      <th></th>\n",
       "      <th></th>\n",
       "      <th></th>\n",
       "      <th></th>\n",
       "      <th></th>\n",
       "      <th></th>\n",
       "      <th></th>\n",
       "      <th></th>\n",
       "      <th></th>\n",
       "      <th></th>\n",
       "      <th></th>\n",
       "      <th></th>\n",
       "      <th></th>\n",
       "      <th></th>\n",
       "      <th></th>\n",
       "      <th></th>\n",
       "      <th></th>\n",
       "      <th></th>\n",
       "      <th></th>\n",
       "    </tr>\n",
       "  </thead>\n",
       "  <tbody>\n",
       "    <tr>\n",
       "      <th>1b8f824d5e</th>\n",
       "      <td>-0.333333</td>\n",
       "      <td>0.147929</td>\n",
       "      <td>-0.186896</td>\n",
       "      <td>0.0</td>\n",
       "      <td>0.0</td>\n",
       "      <td>0.0</td>\n",
       "      <td>0.0</td>\n",
       "      <td>0.0</td>\n",
       "      <td>0.0</td>\n",
       "      <td>0.0</td>\n",
       "      <td>0.0</td>\n",
       "      <td>0.0</td>\n",
       "      <td>0.0</td>\n",
       "      <td>0.0</td>\n",
       "      <td>0.0</td>\n",
       "      <td>0.0</td>\n",
       "      <td>0.0</td>\n",
       "      <td>0.0</td>\n",
       "      <td>0.0</td>\n",
       "      <td>0.0</td>\n",
       "      <td>0.0</td>\n",
       "      <td>2.0</td>\n",
       "      <td>0.0</td>\n",
       "      <td>0.0</td>\n",
       "      <td>0.0</td>\n",
       "      <td>0.0</td>\n",
       "      <td>0.0</td>\n",
       "      <td>1.0</td>\n",
       "      <td>0.0</td>\n",
       "      <td>0.0</td>\n",
       "      <td>0.0</td>\n",
       "      <td>0.0</td>\n",
       "      <td>0.0</td>\n",
       "      <td>1.0</td>\n",
       "      <td>0</td>\n",
       "    </tr>\n",
       "    <tr>\n",
       "      <th>5d272b9dcb</th>\n",
       "      <td>-0.333333</td>\n",
       "      <td>-0.153223</td>\n",
       "      <td>0.447395</td>\n",
       "      <td>0.0</td>\n",
       "      <td>0.0</td>\n",
       "      <td>0.0</td>\n",
       "      <td>0.0</td>\n",
       "      <td>0.0</td>\n",
       "      <td>0.0</td>\n",
       "      <td>0.0</td>\n",
       "      <td>0.0</td>\n",
       "      <td>0.0</td>\n",
       "      <td>0.0</td>\n",
       "      <td>1.0</td>\n",
       "      <td>1.0</td>\n",
       "      <td>0.0</td>\n",
       "      <td>0.0</td>\n",
       "      <td>0.0</td>\n",
       "      <td>0.0</td>\n",
       "      <td>0.0</td>\n",
       "      <td>0.0</td>\n",
       "      <td>0.0</td>\n",
       "      <td>0.0</td>\n",
       "      <td>0.0</td>\n",
       "      <td>0.0</td>\n",
       "      <td>0.0</td>\n",
       "      <td>0.0</td>\n",
       "      <td>1.0</td>\n",
       "      <td>0.0</td>\n",
       "      <td>0.0</td>\n",
       "      <td>0.0</td>\n",
       "      <td>0.0</td>\n",
       "      <td>0.0</td>\n",
       "      <td>1.0</td>\n",
       "      <td>0</td>\n",
       "    </tr>\n",
       "    <tr>\n",
       "      <th>f6d1b2ba63</th>\n",
       "      <td>-0.333333</td>\n",
       "      <td>-0.464964</td>\n",
       "      <td>-0.381705</td>\n",
       "      <td>0.0</td>\n",
       "      <td>0.0</td>\n",
       "      <td>0.0</td>\n",
       "      <td>0.0</td>\n",
       "      <td>0.0</td>\n",
       "      <td>0.0</td>\n",
       "      <td>0.0</td>\n",
       "      <td>0.0</td>\n",
       "      <td>0.0</td>\n",
       "      <td>1.0</td>\n",
       "      <td>0.0</td>\n",
       "      <td>1.0</td>\n",
       "      <td>0.0</td>\n",
       "      <td>0.0</td>\n",
       "      <td>0.0</td>\n",
       "      <td>0.0</td>\n",
       "      <td>0.0</td>\n",
       "      <td>0.0</td>\n",
       "      <td>0.0</td>\n",
       "      <td>0.0</td>\n",
       "      <td>0.0</td>\n",
       "      <td>0.0</td>\n",
       "      <td>0.0</td>\n",
       "      <td>0.0</td>\n",
       "      <td>1.0</td>\n",
       "      <td>0.0</td>\n",
       "      <td>0.0</td>\n",
       "      <td>0.0</td>\n",
       "      <td>0.0</td>\n",
       "      <td>0.0</td>\n",
       "      <td>1.0</td>\n",
       "      <td>0</td>\n",
       "    </tr>\n",
       "    <tr>\n",
       "      <th>180c632ed8</th>\n",
       "      <td>-0.333333</td>\n",
       "      <td>0.231392</td>\n",
       "      <td>0.598969</td>\n",
       "      <td>0.0</td>\n",
       "      <td>0.0</td>\n",
       "      <td>0.0</td>\n",
       "      <td>0.0</td>\n",
       "      <td>0.0</td>\n",
       "      <td>0.0</td>\n",
       "      <td>0.0</td>\n",
       "      <td>0.0</td>\n",
       "      <td>0.0</td>\n",
       "      <td>0.0</td>\n",
       "      <td>0.0</td>\n",
       "      <td>1.0</td>\n",
       "      <td>0.0</td>\n",
       "      <td>0.0</td>\n",
       "      <td>1.0</td>\n",
       "      <td>0.0</td>\n",
       "      <td>0.0</td>\n",
       "      <td>0.0</td>\n",
       "      <td>0.0</td>\n",
       "      <td>0.0</td>\n",
       "      <td>0.0</td>\n",
       "      <td>0.0</td>\n",
       "      <td>0.0</td>\n",
       "      <td>0.0</td>\n",
       "      <td>0.0</td>\n",
       "      <td>1.0</td>\n",
       "      <td>0.0</td>\n",
       "      <td>0.0</td>\n",
       "      <td>0.0</td>\n",
       "      <td>0.0</td>\n",
       "      <td>1.0</td>\n",
       "      <td>0</td>\n",
       "    </tr>\n",
       "    <tr>\n",
       "      <th>4eb37a6705</th>\n",
       "      <td>-0.333333</td>\n",
       "      <td>0.975086</td>\n",
       "      <td>0.693060</td>\n",
       "      <td>0.0</td>\n",
       "      <td>0.0</td>\n",
       "      <td>0.0</td>\n",
       "      <td>0.0</td>\n",
       "      <td>0.0</td>\n",
       "      <td>0.0</td>\n",
       "      <td>0.0</td>\n",
       "      <td>0.0</td>\n",
       "      <td>1.0</td>\n",
       "      <td>1.0</td>\n",
       "      <td>0.0</td>\n",
       "      <td>0.0</td>\n",
       "      <td>0.0</td>\n",
       "      <td>0.0</td>\n",
       "      <td>0.0</td>\n",
       "      <td>0.0</td>\n",
       "      <td>0.0</td>\n",
       "      <td>0.0</td>\n",
       "      <td>0.0</td>\n",
       "      <td>0.0</td>\n",
       "      <td>0.0</td>\n",
       "      <td>0.0</td>\n",
       "      <td>0.0</td>\n",
       "      <td>0.0</td>\n",
       "      <td>0.0</td>\n",
       "      <td>1.0</td>\n",
       "      <td>0.0</td>\n",
       "      <td>0.0</td>\n",
       "      <td>0.0</td>\n",
       "      <td>0.0</td>\n",
       "      <td>1.0</td>\n",
       "      <td>0</td>\n",
       "    </tr>\n",
       "  </tbody>\n",
       "</table>\n",
       "</div>"
      ],
      "text/plain": [
       "             total_orders  total_spend  avg_spend_prod  HR_0  HR_1  HR_2  \\\n",
       "customer_id                                                                \n",
       "1b8f824d5e      -0.333333     0.147929       -0.186896   0.0   0.0   0.0   \n",
       "5d272b9dcb      -0.333333    -0.153223        0.447395   0.0   0.0   0.0   \n",
       "f6d1b2ba63      -0.333333    -0.464964       -0.381705   0.0   0.0   0.0   \n",
       "180c632ed8      -0.333333     0.231392        0.598969   0.0   0.0   0.0   \n",
       "4eb37a6705      -0.333333     0.975086        0.693060   0.0   0.0   0.0   \n",
       "\n",
       "             HR_3  HR_4  HR_5  HR_6  HR_7  HR_8  HR_9  HR_10  HR_11  HR_12  \\\n",
       "customer_id                                                                  \n",
       "1b8f824d5e    0.0   0.0   0.0   0.0   0.0   0.0   0.0    0.0    0.0    0.0   \n",
       "5d272b9dcb    0.0   0.0   0.0   0.0   0.0   0.0   0.0    1.0    1.0    0.0   \n",
       "f6d1b2ba63    0.0   0.0   0.0   0.0   0.0   0.0   1.0    0.0    1.0    0.0   \n",
       "180c632ed8    0.0   0.0   0.0   0.0   0.0   0.0   0.0    0.0    1.0    0.0   \n",
       "4eb37a6705    0.0   0.0   0.0   0.0   0.0   1.0   1.0    0.0    0.0    0.0   \n",
       "\n",
       "             HR_13  HR_14  HR_15  HR_16  HR_17  HR_18  HR_19  HR_20  HR_21  \\\n",
       "customer_id                                                                  \n",
       "1b8f824d5e     0.0    0.0    0.0    0.0    0.0    2.0    0.0    0.0    0.0   \n",
       "5d272b9dcb     0.0    0.0    0.0    0.0    0.0    0.0    0.0    0.0    0.0   \n",
       "f6d1b2ba63     0.0    0.0    0.0    0.0    0.0    0.0    0.0    0.0    0.0   \n",
       "180c632ed8     0.0    1.0    0.0    0.0    0.0    0.0    0.0    0.0    0.0   \n",
       "4eb37a6705     0.0    0.0    0.0    0.0    0.0    0.0    0.0    0.0    0.0   \n",
       "\n",
       "             HR_22  HR_23  DOW_0  DOW_1  DOW_2  DOW_3  DOW_4  DOW_5  DOW_6  \\\n",
       "customer_id                                                                  \n",
       "1b8f824d5e     0.0    0.0    1.0    0.0    0.0    0.0    0.0    0.0    1.0   \n",
       "5d272b9dcb     0.0    0.0    1.0    0.0    0.0    0.0    0.0    0.0    1.0   \n",
       "f6d1b2ba63     0.0    0.0    1.0    0.0    0.0    0.0    0.0    0.0    1.0   \n",
       "180c632ed8     0.0    0.0    0.0    1.0    0.0    0.0    0.0    0.0    1.0   \n",
       "4eb37a6705     0.0    0.0    0.0    1.0    0.0    0.0    0.0    0.0    1.0   \n",
       "\n",
       "             gmm_labels  \n",
       "customer_id              \n",
       "1b8f824d5e            0  \n",
       "5d272b9dcb            0  \n",
       "f6d1b2ba63            0  \n",
       "180c632ed8            0  \n",
       "4eb37a6705            0  "
      ]
     },
     "execution_count": 15,
     "metadata": {},
     "output_type": "execute_result"
    }
   ],
   "source": [
    "# Concatenating the labels to spending_data\n",
    "spending_data_concat = pd.concat([scaled_data, pd.Series(gmm_labels, index=scaled_data.index, name=\"gmm_labels\")], axis=1)\n",
    "spending_data_concat.head()"
   ]
  },
  {
   "cell_type": "code",
   "execution_count": 17,
   "id": "48083010",
   "metadata": {},
   "outputs": [],
   "source": [
    "def get_ss(df):\n",
    "    \"\"\"Computes the sum of squares for all variables given a dataset\n",
    "    \"\"\"\n",
    "    ss = np.sum(df.var() * (df.count() - 1))\n",
    "    return ss  # return sum of sum of squares of each df variable"
   ]
  },
  {
   "cell_type": "code",
   "execution_count": 18,
   "id": "c854f227",
   "metadata": {},
   "outputs": [
    {
     "name": "stdout",
     "output_type": "stream",
     "text": [
      "Cluster solution with R^2 of 0.1023\n"
     ]
    }
   ],
   "source": [
    "# Computing the R^2 of the cluster solution\n",
    "sst = get_ss(scaled_data)  # get total sum of squares\n",
    "ssw_labels = spending_data_concat.groupby(by='gmm_labels').apply(get_ss)  # compute ssw for each cluster labels\n",
    "ssb = sst - np.sum(ssw_labels)  # remember: SST = SSW + SSB\n",
    "r2 = ssb / sst\n",
    "print(\"Cluster solution with R^2 of %0.4f\" % r2)"
   ]
  },
  {
   "cell_type": "markdown",
   "id": "3ce6ebb4",
   "metadata": {},
   "source": [
    "## 2.? SOM"
   ]
  },
  {
   "cell_type": "code",
   "execution_count": null,
   "id": "c90247f7",
   "metadata": {},
   "outputs": [],
   "source": [
    "# Training a Self-Organized Map with a 15 by 15 grid, using 52 features.\n",
    "som = MiniSom(\n",
    "    15, \n",
    "    15, \n",
    "    52,\n",
    "    sigma=0.5,\n",
    "    learning_rate=1,\n",
    "    neighborhood_function='gaussian',\n",
    "    random_seed=42\n",
    "    )"
   ]
  },
  {
   "cell_type": "code",
   "execution_count": null,
   "id": "cc0932aa",
   "metadata": {},
   "outputs": [],
   "source": [
    "# Set the seed of Numpy just to be sure of replicability\n",
    "np.random.seed(42)\n",
    "\n",
    "num_iterations = 1000\n",
    "\n",
    "q_errors = []\n",
    "for i in range(1, num_iterations):\n",
    "    som.train_batch(scaled_data, i)\n",
    "    q_errors.append(som.quantization_error(scaled_data))"
   ]
  },
  {
   "cell_type": "code",
   "execution_count": null,
   "id": "b2041e9d",
   "metadata": {},
   "outputs": [],
   "source": [
    "plt.plot(q_errors)"
   ]
  },
  {
   "cell_type": "code",
   "execution_count": null,
   "id": "a49f5d6f",
   "metadata": {},
   "outputs": [],
   "source": [
    "# Setting up the same som again and retraining it \n",
    "som = MiniSom(\n",
    "    15, 15, 52, sigma=0.5, \n",
    "    learning_rate=1, neighborhood_function='gaussian', random_seed=42)\n",
    "som.train(scaled_data, 800)"
   ]
  },
  {
   "cell_type": "code",
   "execution_count": null,
   "id": "337bd05f",
   "metadata": {},
   "outputs": [],
   "source": [
    "def plot_som_hexagons(som,\n",
    "                      matrix,\n",
    "                      cmap=cm.Blues,\n",
    "                      figsize=(20,20),\n",
    "                      annotate=True,\n",
    "                      title=\"SOM Matrix\",\n",
    "                      cbar_label=\"Color Scale\"\n",
    "                ):\n",
    "\n",
    "    xx, yy = som.get_euclidean_coordinates()\n",
    "\n",
    "    f = plt.figure(figsize=figsize)\n",
    "    ax = f.add_subplot(111)\n",
    "\n",
    "    ax.set_aspect('equal')\n",
    "    ax.set_title(title, fontsize=20)\n",
    "\n",
    "    colornorm = mpl_colors.Normalize(vmin=np.min(matrix), \n",
    "                                     vmax=np.max(matrix))\n",
    "\n",
    "    for i in range(xx.shape[0]):\n",
    "        for j in range(xx.shape[1]):\n",
    "            wy = yy[(i, j)] * np.sqrt(3) / 2\n",
    "            hexagon = RegularPolygon((xx[(i, j)], wy), \n",
    "                                 numVertices=6, \n",
    "                                 radius=.95 / np.sqrt(3),\n",
    "                                 facecolor=cmap(colornorm(matrix[i, j])), \n",
    "                                 alpha=1)\n",
    "            ax.add_patch(hexagon)\n",
    "\n",
    "            if annotate:\n",
    "                annot_vals = np.round(matrix[i, j],2)\n",
    "                if annot_vals > 1:\n",
    "                    annot_vals = int(annot_vals)\n",
    "                \n",
    "                ax.text(xx[(i, j)], wy, annot_vals, \n",
    "                        ha='center', va='center', \n",
    "                        fontsize=figsize[1], \n",
    "                        )\n",
    "\n",
    "    ax.margins(.05)\n",
    "    ax.axis(\"off\")\n",
    "\n",
    "    ## Create a Mappable object\n",
    "    cmap_sm = plt.cm.ScalarMappable(cmap=cmap, norm=colornorm)\n",
    "    cmap_sm.set_array([])\n",
    "    \n",
    "    divider = make_axes_locatable(plt.gca())\n",
    "    ax_cb = divider.new_horizontal(size=\"2%\", pad=0)    \n",
    "    cb1 = colorbar.ColorbarBase(ax_cb, \n",
    "                                orientation='vertical', \n",
    "                                alpha=1,\n",
    "                                mappable=cmap_sm\n",
    "                               )\n",
    "    cb1.ax.get_yaxis().labelpad = 16\n",
    "    cb1.ax.set_ylabel(cbar_label, fontsize=18)\n",
    "    plt.gcf().add_axes(ax_cb)\n",
    "\n",
    "    return plt"
   ]
  },
  {
   "cell_type": "code",
   "execution_count": null,
   "id": "795127c5",
   "metadata": {},
   "outputs": [],
   "source": [
    "umatrix = som.distance_map(scaling='mean')\n",
    "\n",
    "fig = plot_som_hexagons(som, umatrix, cmap=cm.RdYlBu_r, title=\"SOM U-Matrix\")\n",
    "plt.show()"
   ]
  }
 ],
 "metadata": {
  "kernelspec": {
   "display_name": "Python 3",
   "language": "python",
   "name": "python3"
  },
  "language_info": {
   "codemirror_mode": {
    "name": "ipython",
    "version": 3
   },
   "file_extension": ".py",
   "mimetype": "text/x-python",
   "name": "python",
   "nbconvert_exporter": "python",
   "pygments_lexer": "ipython3",
   "version": "3.10.2"
  }
 },
 "nbformat": 4,
 "nbformat_minor": 5
}
